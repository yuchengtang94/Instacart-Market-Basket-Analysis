{
 "cells": [
  {
   "cell_type": "code",
   "execution_count": 1,
   "metadata": {
    "collapsed": true
   },
   "outputs": [],
   "source": [
    "import gc\n",
    "import time\n",
    "import numpy as np # linear algebra\n",
    "import pandas as pd # data processing, CSV file I/O (e.g. pd.read_csv)\n",
    "\n",
    "# Input data files are available in the \"../input/\" directory.\n",
    "# For example, running this (by clicking run or pressing Shift+Enter) will list the files in the input directory\n",
    "\n",
    "from subprocess import check_output"
   ]
  },
  {
   "cell_type": "markdown",
   "metadata": {},
   "source": [
    "# 数据导入"
   ]
  },
  {
   "cell_type": "code",
   "execution_count": 2,
   "metadata": {
    "collapsed": true
   },
   "outputs": [],
   "source": [
    "def load_data(path_data):\n",
    "    '''\n",
    "    --------------------------------order_product--------------------------------\n",
    "    * Unique in order_id + product_id\n",
    "    '''\n",
    "    priors = pd.read_csv(path_data + 'order_products__prior.csv', \n",
    "                     dtype={\n",
    "                            'order_id': np.int32,\n",
    "                            'product_id': np.uint16,\n",
    "                            'add_to_cart_order': np.int16,\n",
    "                            'reordered': np.int8})\n",
    "    train = pd.read_csv(path_data + 'order_products__train.csv', \n",
    "                    dtype={\n",
    "                            'order_id': np.int32,\n",
    "                            'product_id': np.uint16,\n",
    "                            'add_to_cart_order': np.int16,\n",
    "                            'reordered': np.int8})\n",
    "    '''\n",
    "    --------------------------------order--------------------------------\n",
    "    * This file tells us which set (prior, train, test) an order belongs\n",
    "    * Unique in order_id\n",
    "    * order_id in train, prior, test has no intersection\n",
    "    * this is the #order_number order of this user\n",
    "    '''\n",
    "    orders = pd.read_csv(path_data + 'orders.csv', \n",
    "                         dtype={\n",
    "                                'order_id': np.int32,\n",
    "                                'user_id': np.int64,\n",
    "                                'eval_set': 'category',\n",
    "                                'order_number': np.int16,\n",
    "                                'order_dow': np.int8,\n",
    "                                'order_hour_of_day': np.int8,\n",
    "                                'days_since_prior_order': np.float32})\n",
    "\n",
    "    #  order in prior, train, test has no duplicate\n",
    "    #  order_ids_pri = priors.order_id.unique()\n",
    "    #  order_ids_trn = train.order_id.unique()\n",
    "    #  order_ids_tst = orders[orders.eval_set == 'test']['order_id'].unique()\n",
    "    #  print(set(order_ids_pri).intersection(set(order_ids_trn)))\n",
    "    #  print(set(order_ids_pri).intersection(set(order_ids_tst)))\n",
    "    #  print(set(order_ids_trn).intersection(set(order_ids_tst)))\n",
    "\n",
    "    '''\n",
    "    --------------------------------product--------------------------------\n",
    "    * Unique in product_id\n",
    "    '''\n",
    "    products = pd.read_csv(path_data + 'products.csv')\n",
    "    aisles = pd.read_csv(path_data + \"aisles.csv\")\n",
    "    departments = pd.read_csv(path_data + \"departments.csv\")\n",
    "    sample_submission = pd.read_csv(path_data + \"sample_submission.csv\")\n",
    "    \n",
    "    return priors, train, orders, products, aisles, departments, sample_submission\n",
    "path_data = '../input/'\n",
    "priors, train, orders, products, aisles, departments, sample_submission = load_data(path_data)"
   ]
  },
  {
   "cell_type": "markdown",
   "metadata": {},
   "source": [
    "# 时钟函数 + 新建特征函数"
   ]
  },
  {
   "cell_type": "code",
   "execution_count": null,
   "metadata": {
    "collapsed": true
   },
   "outputs": [],
   "source": [
    "class tick_tock:\n",
    "    def __init__(self, process_name, verbose=1):\n",
    "        self.process_name = process_name\n",
    "        self.verbose = verbose\n",
    "    def __enter__(self):\n",
    "        if self.verbose:\n",
    "            print(self.process_name + \" begin ......\")\n",
    "            self.begin_time = time.time()\n",
    "    def __exit__(self, type, value, traceback):\n",
    "        if self.verbose:\n",
    "            end_time = time.time()\n",
    "            print(self.process_name + \" end ......\")\n",
    "            print('time lapsing {0} s \\n'.format(end_time - self.begin_time))\n",
    "            \n",
    "def ka_add_groupby_features_1_vs_n(df, group_columns_list, agg_dict, only_new_feature=True):\n",
    "    with tick_tock(\"add stats features\"):\n",
    "        try:\n",
    "            if type(group_columns_list) == list:\n",
    "                pass\n",
    "            else:\n",
    "                raise TypeError(k + \"should be a list\")\n",
    "        except TypeError as e:\n",
    "            print(e)\n",
    "            raise\n",
    "\n",
    "        df_new = df.copy()\n",
    "        grouped = df_new.groupby(group_columns_list)\n",
    "\n",
    "        the_stats = grouped.agg(agg_dict)\n",
    "        the_stats.columns = the_stats.columns.droplevel(0)\n",
    "        the_stats.reset_index(inplace=True)\n",
    "        if only_new_feature:\n",
    "            df_new = the_stats\n",
    "        else:\n",
    "            df_new = pd.merge(left=df_new, right=the_stats, on=group_columns_list, how='left')\n",
    "\n",
    "    return df_new"
   ]
  },
  {
   "cell_type": "markdown",
   "metadata": {},
   "source": [
    "# Product Features\n",
    "各种product有关的feature 主要是product的购买量和重新购买概率等\n",
    "包括：\n",
    "#_user_buy_product_times\n",
    "#_prod_tot_cnts\n",
    "#_prod_reorder_tot_cnts\n",
    "#_prod_buy_first_time_total_cnt\n",
    "#_prod_buy_second_time_total_cnt\n",
    "#_prod_reorder_prob\n",
    "#_prod_reorder_ratio\n",
    "#_prod_reorder_times"
   ]
  },
  {
   "cell_type": "code",
   "execution_count": null,
   "metadata": {
    "collapsed": true
   },
   "outputs": [],
   "source": [
    "priors_orders_detail = orders.merge(right=priors, how='inner', on='order_id')"
   ]
  },
  {
   "cell_type": "code",
   "execution_count": null,
   "metadata": {
    "scrolled": true
   },
   "outputs": [],
   "source": [
    "priors_orders_detail.loc[:,'_user_buy_product_times'] = priors_orders_detail.groupby(['user_id', 'product_id']).cumcount() + 1\n",
    "priors_orders_detail.head()\n"
   ]
  },
  {
   "cell_type": "code",
   "execution_count": null,
   "metadata": {},
   "outputs": [],
   "source": [
    "agg_dict = {'user_id':{'_prod_tot_cnts':'count'}, \n",
    "                'reordered':{'_prod_reorder_tot_cnts':'sum'}, \n",
    "                '_user_buy_product_times': {'_prod_buy_first_time_total_cnt':lambda x: sum(x==1),\n",
    "                                            '_prod_buy_second_time_total_cnt':lambda x: sum(x==2)}}\n",
    "prd = ka_add_groupby_features_1_vs_n(priors_orders_detail, ['product_id'], agg_dict)\n"
   ]
  },
  {
   "cell_type": "code",
   "execution_count": null,
   "metadata": {
    "collapsed": true
   },
   "outputs": [],
   "source": [
    "prd['_prod_reorder_prob'] = prd._prod_buy_second_time_total_cnt / prd._prod_buy_first_time_total_cnt\n",
    "prd['_prod_reorder_ratio'] = prd._prod_reorder_tot_cnts / prd._prod_tot_cnts\n",
    "prd['_prod_reorder_times'] = 1 + prd._prod_reorder_tot_cnts / prd._prod_buy_first_time_total_cnt"
   ]
  },
  {
   "cell_type": "code",
   "execution_count": null,
   "metadata": {},
   "outputs": [],
   "source": [
    "prd.head()"
   ]
  },
  {
   "cell_type": "code",
   "execution_count": null,
   "metadata": {
    "collapsed": true,
    "scrolled": true
   },
   "outputs": [],
   "source": [
    "products.drop('product_name',axis=1, inplace=True)"
   ]
  },
  {
   "cell_type": "code",
   "execution_count": null,
   "metadata": {
    "scrolled": false
   },
   "outputs": [],
   "source": [
    "priors_orders_detail = priors_orders_detail.merge(products,on = 'product_id')\n",
    "priors_orders_detail.head()"
   ]
  },
  {
   "cell_type": "markdown",
   "metadata": {},
   "source": [
    "# Aisle Features\n",
    "这部分是我自己加的 通道特征---- 表示某一个通道商品的购买次数、购买率等特征：\n",
    "#_user_buy_aisles_times\n",
    "#_aisles_tot_cnts\n",
    "#_aisles_reorder_tot_cnts\n",
    "#_aisles_buy_first_time_total_cnt\n",
    "#_aisles_buy_second_time_total_cnt\n",
    "#_aisles_reorder_prob\n",
    "#_aisles_reorder_ratio\n",
    "#_aisles_reorder_times"
   ]
  },
  {
   "cell_type": "code",
   "execution_count": null,
   "metadata": {},
   "outputs": [],
   "source": [
    "\n",
    "priors_orders_detail.loc[:,'_user_buy_aisles_times'] = priors_orders_detail.groupby(['user_id','aisle_id','order_id']).cumcount() + 1\n",
    "agg_dict_a = {'user_id':{'_aisles_tot_cnts':'count'}, \n",
    "                'reordered':{'_aisles_reorder_tot_cnts':'sum'}, \n",
    "                '_user_buy_aisles_times': {'_aisles_buy_first_time_total_cnt':lambda x: sum(x==1),\n",
    "                                            '_aisles_buy_second_time_total_cnt':lambda x: sum(x==2)}}\n",
    "ais = ka_add_groupby_features_1_vs_n(priors_orders_detail, ['aisle_id'], agg_dict_a)"
   ]
  },
  {
   "cell_type": "code",
   "execution_count": null,
   "metadata": {
    "collapsed": true
   },
   "outputs": [],
   "source": [
    "ais['_aisles_reorder_prob'] = ais._aisles_buy_second_time_total_cnt / ais._aisles_buy_first_time_total_cnt"
   ]
  },
  {
   "cell_type": "code",
   "execution_count": null,
   "metadata": {
    "collapsed": true
   },
   "outputs": [],
   "source": [
    "ais['_aisles_reorder_ratio'] = ais._aisles_reorder_tot_cnts / ais._aisles_tot_cnts\n",
    "ais['_aisles_reorder_times'] = 1 + ais._aisles_reorder_tot_cnts / ais._aisles_buy_first_time_total_cnt"
   ]
  },
  {
   "cell_type": "code",
   "execution_count": null,
   "metadata": {},
   "outputs": [],
   "source": [
    "ais.head()"
   ]
  },
  {
   "cell_type": "markdown",
   "metadata": {},
   "source": [
    "# Department Features\n",
    "自己加的 类似之前两个特征"
   ]
  },
  {
   "cell_type": "code",
   "execution_count": null,
   "metadata": {
    "scrolled": true
   },
   "outputs": [],
   "source": [
    "priors_orders_detail.loc[:,'_user_buy_dep_times'] = priors_orders_detail.groupby(['user_id','department_id','order_id']).cumcount() + 1\n",
    "\n",
    "agg_dict_a = {'user_id':{'__dep_tot_cnts':'count'}, \n",
    "                'reordered':{'_dep_reorder_tot_cnts':'sum'}, \n",
    "                '_user_buy_dep_times': {'_dep_buy_first_time_total_cnt':lambda x: sum(x==1),\n",
    "                                            '_dep_buy_second_time_total_cnt':lambda x: sum(x==2)}}\n",
    "dep = ka_add_groupby_features_1_vs_n(priors_orders_detail, ['department_id'], agg_dict_a)"
   ]
  },
  {
   "cell_type": "code",
   "execution_count": null,
   "metadata": {
    "collapsed": true
   },
   "outputs": [],
   "source": [
    "dep['_dep_reorder_prob'] = dep._dep_buy_second_time_total_cnt / dep._dep_buy_first_time_total_cnt"
   ]
  },
  {
   "cell_type": "code",
   "execution_count": null,
   "metadata": {},
   "outputs": [],
   "source": [
    "dep['_dep_reorder_ratio'] = dep._dep_reorder_tot_cnts / dep.__dep_tot_cnts\n",
    "dep['_dep_reorder_times'] = 1 + dep._dep_reorder_tot_cnts / dep._dep_buy_first_time_total_cnt\n",
    "dep.head()"
   ]
  },
  {
   "cell_type": "markdown",
   "metadata": {},
   "source": [
    "# User Time Features\n",
    "用户和购买时间有关的特征\n",
    "#_user_total_orders\n",
    "#_user_sum_days_since_prior_order\n",
    "#_user_mean_days_since_prior_order\n",
    "## 这里增加了个特征\n",
    "#_user_min_days_since_prior_order \n",
    "#考虑增加 order_dow / order_hour_of_day 的相关特征"
   ]
  },
  {
   "cell_type": "code",
   "execution_count": null,
   "metadata": {},
   "outputs": [],
   "source": [
    "agg_dict_2 = {'order_number':{'_user_total_orders':'max'},\n",
    "              'days_since_prior_order':{'_user_sum_days_since_prior_order':'sum', \n",
    "                                        '_user_mean_days_since_prior_order': 'mean',\n",
    "                                        '_user_min_days_since_prior_order': 'min'}}\n",
    "users = ka_add_groupby_features_1_vs_n(orders[orders.eval_set == 'prior'], ['user_id'], agg_dict_2)\n",
    "users.head()"
   ]
  },
  {
   "cell_type": "markdown",
   "metadata": {},
   "source": [
    "# User order Features\n",
    "\n",
    "#用户的购买量相关的特征\n",
    "#_user_total_products\n",
    "#_user_distinct_products\n",
    "#_user_reorder_ratio\n",
    "#_user_maximum_basket\n",
    "#_user_average_basket\n",
    "#time_since_last_order\n",
    "### 增加了一个特征_user_maximum_basket\n"
   ]
  },
  {
   "cell_type": "code",
   "execution_count": null,
   "metadata": {
    "collapsed": true
   },
   "outputs": [],
   "source": [
    "# agg_dict_3 = {'reordered':\n",
    "#                   {'_user_reorder_ratio': \n",
    "#                    lambda x: sum(priors_orders_detail.ix[x.index,'reordered']==1)/\n",
    "#                              sum(priors_orders_detail.ix[x.index,'order_number'] > 1)},\n",
    "#                   'product_id':{'_user_total_products':'count', \n",
    "#                                 '_user_distinct_products': lambda x: x.nunique()},\n",
    "#                'add_to_cart_order' : {'_user_minimum_basket' : 'min'}}\n",
    "# us = ka_add_groupby_features_1_vs_n(priors_orders_detail, ['user_id'], agg_dict_3)\n",
    "\n",
    "us = pd.concat([\n",
    "    priors_orders_detail.groupby('user_id')['product_id'].count().rename('_user_total_products'),\n",
    "    priors_orders_detail.groupby('user_id')['product_id'].nunique().rename('_user_distinct_products'),\n",
    "    (priors_orders_detail.groupby('user_id')['reordered'].sum() /\n",
    "        priors_orders_detail[priors_orders_detail['order_number'] > 1].groupby('user_id')['order_number'].count()).rename('_user_reorder_ratio'),\n",
    "    priors_orders_detail.groupby('user_id')['add_to_cart_order'].max().rename('_user_maximum_basket')\n",
    "], axis=1).reset_index()"
   ]
  },
  {
   "cell_type": "code",
   "execution_count": null,
   "metadata": {},
   "outputs": [],
   "source": [
    "us.head()"
   ]
  },
  {
   "cell_type": "code",
   "execution_count": null,
   "metadata": {
    "collapsed": true
   },
   "outputs": [],
   "source": [
    "users = users.merge(us, how='inner')"
   ]
  },
  {
   "cell_type": "code",
   "execution_count": null,
   "metadata": {
    "collapsed": true
   },
   "outputs": [],
   "source": [
    "users['_user_average_basket'] = users._user_total_products / users._user_total_orders"
   ]
  },
  {
   "cell_type": "code",
   "execution_count": null,
   "metadata": {
    "collapsed": true
   },
   "outputs": [],
   "source": [
    "us = orders[orders.eval_set != \"prior\"][['user_id', 'order_id', 'eval_set', 'days_since_prior_order']]"
   ]
  },
  {
   "cell_type": "code",
   "execution_count": null,
   "metadata": {
    "collapsed": true
   },
   "outputs": [],
   "source": [
    "us.rename(index=str, columns={'days_since_prior_order': 'time_since_last_order'}, inplace=True)"
   ]
  },
  {
   "cell_type": "code",
   "execution_count": null,
   "metadata": {},
   "outputs": [],
   "source": [
    "users = users.merge(us, how='inner')\n",
    "users.head()"
   ]
  },
  {
   "cell_type": "markdown",
   "metadata": {},
   "source": [
    "# User product interaction Feature\n",
    "#User和特定的product之间的关联特征\n",
    "#_up_order_count\n",
    "#_up_first_order_number\n",
    "#_up_last_order_number\n",
    "#_up_average_cart_position\n",
    "#_up_average_order_dow\n",
    "#_up_order_rate\n",
    "#_up_order_since_last_order\n",
    "#_up_order_rate_since_first_order"
   ]
  },
  {
   "cell_type": "code",
   "execution_count": null,
   "metadata": {
    "collapsed": true
   },
   "outputs": [],
   "source": [
    "agg_dict_4 = {'order_number':{'_up_order_count': 'count', \n",
    "                                  '_up_first_order_number': 'min', \n",
    "                                  '_up_last_order_number':'max'}, \n",
    "                  'add_to_cart_order':{'_up_average_cart_position': 'mean'}, \n",
    "                 'order_dow' :{'_up_average_order_dow' : 'mean'}}"
   ]
  },
  {
   "cell_type": "code",
   "execution_count": null,
   "metadata": {
    "scrolled": true
   },
   "outputs": [],
   "source": [
    "data = ka_add_groupby_features_1_vs_n(df=priors_orders_detail, \n",
    "                                                          group_columns_list=['user_id', 'product_id'], \n",
    "                                                          agg_dict=agg_dict_4)"
   ]
  },
  {
   "cell_type": "code",
   "execution_count": null,
   "metadata": {
    "scrolled": true
   },
   "outputs": [],
   "source": [
    "data.head()"
   ]
  },
  {
   "cell_type": "markdown",
   "metadata": {},
   "source": [
    "这里把之前的特征merge进来了"
   ]
  },
  {
   "cell_type": "code",
   "execution_count": 32,
   "metadata": {
    "collapsed": true
   },
   "outputs": [],
   "source": [
    "data = data.merge(prd, how='inner', on='product_id').merge(users, how='inner', on='user_id')\n",
    "data = data.merge(products, how ='inner', on ='product_id')\n",
    "data = data.merge(ais, how='inner', on='aisle_id').merge(dep, how='inner', on='department_id')\n"
   ]
  },
  {
   "cell_type": "code",
   "execution_count": 33,
   "metadata": {
    "collapsed": true
   },
   "outputs": [],
   "source": [
    "# 该商品购买次数 / 总的订单数\n",
    "# 最近一次购买商品 - 最后一次购买该商品\n",
    "# 该商品购买次数 / 第一次购买该商品到最后一次购买商品的的订单数\n",
    "data['_up_order_rate'] = data._up_order_count / data._user_total_orders\n",
    "data['_up_order_since_last_order'] = data._user_total_orders - data._up_last_order_number\n",
    "data['_up_order_rate_since_first_order'] = data._up_order_count / (data._user_total_orders - data._up_first_order_number + 1)\n",
    "\n",
    "# add user_id to train set\n",
    "train = train.merge(right=orders[['order_id', 'user_id']], how='left', on='order_id')\n",
    "data = data.merge(train[['user_id', 'product_id', 'reordered']], on=['user_id', 'product_id'], how='left')"
   ]
  },
  {
   "cell_type": "code",
   "execution_count": 34,
   "metadata": {},
   "outputs": [
    {
     "data": {
      "text/html": [
       "<div>\n",
       "<style>\n",
       "    .dataframe thead tr:only-child th {\n",
       "        text-align: right;\n",
       "    }\n",
       "\n",
       "    .dataframe thead th {\n",
       "        text-align: left;\n",
       "    }\n",
       "\n",
       "    .dataframe tbody tr th {\n",
       "        vertical-align: top;\n",
       "    }\n",
       "</style>\n",
       "<table border=\"1\" class=\"dataframe\">\n",
       "  <thead>\n",
       "    <tr style=\"text-align: right;\">\n",
       "      <th></th>\n",
       "      <th>user_id</th>\n",
       "      <th>product_id</th>\n",
       "      <th>_up_average_cart_position</th>\n",
       "      <th>_up_average_order_dow</th>\n",
       "      <th>_up_order_count</th>\n",
       "      <th>_up_first_order_number</th>\n",
       "      <th>_up_last_order_number</th>\n",
       "      <th>_prod_buy_second_time_total_cnt</th>\n",
       "      <th>_prod_buy_first_time_total_cnt</th>\n",
       "      <th>_prod_tot_cnts</th>\n",
       "      <th>...</th>\n",
       "      <th>_dep_buy_first_time_total_cnt</th>\n",
       "      <th>_dep_buy_second_time_total_cnt</th>\n",
       "      <th>_dep_reorder_tot_cnts</th>\n",
       "      <th>_dep_reorder_prob</th>\n",
       "      <th>_dep_reorder_ratio</th>\n",
       "      <th>_dep_reorder_times</th>\n",
       "      <th>_up_order_rate</th>\n",
       "      <th>_up_order_since_last_order</th>\n",
       "      <th>_up_order_rate_since_first_order</th>\n",
       "      <th>reordered</th>\n",
       "    </tr>\n",
       "  </thead>\n",
       "  <tbody>\n",
       "    <tr>\n",
       "      <th>0</th>\n",
       "      <td>1</td>\n",
       "      <td>196</td>\n",
       "      <td>1.400000</td>\n",
       "      <td>2.5</td>\n",
       "      <td>10</td>\n",
       "      <td>1</td>\n",
       "      <td>10</td>\n",
       "      <td>4660</td>\n",
       "      <td>8000</td>\n",
       "      <td>35791</td>\n",
       "      <td>...</td>\n",
       "      <td>1457351</td>\n",
       "      <td>642288</td>\n",
       "      <td>1757892.0</td>\n",
       "      <td>0.440723</td>\n",
       "      <td>0.65346</td>\n",
       "      <td>2.206224</td>\n",
       "      <td>1.000000</td>\n",
       "      <td>0</td>\n",
       "      <td>1.000000</td>\n",
       "      <td>1.0</td>\n",
       "    </tr>\n",
       "    <tr>\n",
       "      <th>1</th>\n",
       "      <td>15</td>\n",
       "      <td>196</td>\n",
       "      <td>2.200000</td>\n",
       "      <td>1.4</td>\n",
       "      <td>5</td>\n",
       "      <td>15</td>\n",
       "      <td>22</td>\n",
       "      <td>4660</td>\n",
       "      <td>8000</td>\n",
       "      <td>35791</td>\n",
       "      <td>...</td>\n",
       "      <td>1457351</td>\n",
       "      <td>642288</td>\n",
       "      <td>1757892.0</td>\n",
       "      <td>0.440723</td>\n",
       "      <td>0.65346</td>\n",
       "      <td>2.206224</td>\n",
       "      <td>0.227273</td>\n",
       "      <td>0</td>\n",
       "      <td>0.625000</td>\n",
       "      <td>NaN</td>\n",
       "    </tr>\n",
       "    <tr>\n",
       "      <th>2</th>\n",
       "      <td>19</td>\n",
       "      <td>196</td>\n",
       "      <td>6.333333</td>\n",
       "      <td>5.0</td>\n",
       "      <td>3</td>\n",
       "      <td>2</td>\n",
       "      <td>7</td>\n",
       "      <td>4660</td>\n",
       "      <td>8000</td>\n",
       "      <td>35791</td>\n",
       "      <td>...</td>\n",
       "      <td>1457351</td>\n",
       "      <td>642288</td>\n",
       "      <td>1757892.0</td>\n",
       "      <td>0.440723</td>\n",
       "      <td>0.65346</td>\n",
       "      <td>2.206224</td>\n",
       "      <td>0.333333</td>\n",
       "      <td>2</td>\n",
       "      <td>0.375000</td>\n",
       "      <td>NaN</td>\n",
       "    </tr>\n",
       "    <tr>\n",
       "      <th>3</th>\n",
       "      <td>21</td>\n",
       "      <td>196</td>\n",
       "      <td>2.000000</td>\n",
       "      <td>3.0</td>\n",
       "      <td>1</td>\n",
       "      <td>10</td>\n",
       "      <td>10</td>\n",
       "      <td>4660</td>\n",
       "      <td>8000</td>\n",
       "      <td>35791</td>\n",
       "      <td>...</td>\n",
       "      <td>1457351</td>\n",
       "      <td>642288</td>\n",
       "      <td>1757892.0</td>\n",
       "      <td>0.440723</td>\n",
       "      <td>0.65346</td>\n",
       "      <td>2.206224</td>\n",
       "      <td>0.030303</td>\n",
       "      <td>23</td>\n",
       "      <td>0.041667</td>\n",
       "      <td>NaN</td>\n",
       "    </tr>\n",
       "    <tr>\n",
       "      <th>4</th>\n",
       "      <td>31</td>\n",
       "      <td>196</td>\n",
       "      <td>15.500000</td>\n",
       "      <td>3.0</td>\n",
       "      <td>2</td>\n",
       "      <td>10</td>\n",
       "      <td>17</td>\n",
       "      <td>4660</td>\n",
       "      <td>8000</td>\n",
       "      <td>35791</td>\n",
       "      <td>...</td>\n",
       "      <td>1457351</td>\n",
       "      <td>642288</td>\n",
       "      <td>1757892.0</td>\n",
       "      <td>0.440723</td>\n",
       "      <td>0.65346</td>\n",
       "      <td>2.206224</td>\n",
       "      <td>0.100000</td>\n",
       "      <td>3</td>\n",
       "      <td>0.181818</td>\n",
       "      <td>NaN</td>\n",
       "    </tr>\n",
       "  </tbody>\n",
       "</table>\n",
       "<p>5 rows × 46 columns</p>\n",
       "</div>"
      ],
      "text/plain": [
       "   user_id  product_id  _up_average_cart_position  _up_average_order_dow  \\\n",
       "0        1         196                   1.400000                    2.5   \n",
       "1       15         196                   2.200000                    1.4   \n",
       "2       19         196                   6.333333                    5.0   \n",
       "3       21         196                   2.000000                    3.0   \n",
       "4       31         196                  15.500000                    3.0   \n",
       "\n",
       "   _up_order_count  _up_first_order_number  _up_last_order_number  \\\n",
       "0               10                       1                     10   \n",
       "1                5                      15                     22   \n",
       "2                3                       2                      7   \n",
       "3                1                      10                     10   \n",
       "4                2                      10                     17   \n",
       "\n",
       "   _prod_buy_second_time_total_cnt  _prod_buy_first_time_total_cnt  \\\n",
       "0                             4660                            8000   \n",
       "1                             4660                            8000   \n",
       "2                             4660                            8000   \n",
       "3                             4660                            8000   \n",
       "4                             4660                            8000   \n",
       "\n",
       "   _prod_tot_cnts    ...      _dep_buy_first_time_total_cnt  \\\n",
       "0           35791    ...                            1457351   \n",
       "1           35791    ...                            1457351   \n",
       "2           35791    ...                            1457351   \n",
       "3           35791    ...                            1457351   \n",
       "4           35791    ...                            1457351   \n",
       "\n",
       "   _dep_buy_second_time_total_cnt  _dep_reorder_tot_cnts  _dep_reorder_prob  \\\n",
       "0                          642288              1757892.0           0.440723   \n",
       "1                          642288              1757892.0           0.440723   \n",
       "2                          642288              1757892.0           0.440723   \n",
       "3                          642288              1757892.0           0.440723   \n",
       "4                          642288              1757892.0           0.440723   \n",
       "\n",
       "   _dep_reorder_ratio  _dep_reorder_times  _up_order_rate  \\\n",
       "0             0.65346            2.206224        1.000000   \n",
       "1             0.65346            2.206224        0.227273   \n",
       "2             0.65346            2.206224        0.333333   \n",
       "3             0.65346            2.206224        0.030303   \n",
       "4             0.65346            2.206224        0.100000   \n",
       "\n",
       "   _up_order_since_last_order  _up_order_rate_since_first_order  reordered  \n",
       "0                           0                          1.000000        1.0  \n",
       "1                           0                          0.625000        NaN  \n",
       "2                           2                          0.375000        NaN  \n",
       "3                          23                          0.041667        NaN  \n",
       "4                           3                          0.181818        NaN  \n",
       "\n",
       "[5 rows x 46 columns]"
      ]
     },
     "execution_count": 34,
     "metadata": {},
     "output_type": "execute_result"
    }
   ],
   "source": [
    "data.head()"
   ]
  },
  {
   "cell_type": "code",
   "execution_count": 35,
   "metadata": {},
   "outputs": [
    {
     "name": "stdout",
     "output_type": "stream",
     "text": [
      "<class 'pandas.core.frame.DataFrame'>\n",
      "Int64Index: 13307953 entries, 0 to 13307952\n",
      "Data columns (total 46 columns):\n",
      "user_id                              int64\n",
      "product_id                           uint64\n",
      "_up_average_cart_position            float64\n",
      "_up_average_order_dow                float64\n",
      "_up_order_count                      int64\n",
      "_up_first_order_number               int16\n",
      "_up_last_order_number                int16\n",
      "_prod_buy_second_time_total_cnt      int64\n",
      "_prod_buy_first_time_total_cnt       int64\n",
      "_prod_tot_cnts                       int64\n",
      "_prod_reorder_tot_cnts               float64\n",
      "_prod_reorder_prob                   float64\n",
      "_prod_reorder_ratio                  float64\n",
      "_prod_reorder_times                  float64\n",
      "_user_mean_days_since_prior_order    float32\n",
      "_user_sum_days_since_prior_order     float32\n",
      "_user_min_days_since_prior_order     float32\n",
      "_user_total_orders                   int16\n",
      "_user_total_products                 int64\n",
      "_user_distinct_products              int64\n",
      "_user_reorder_ratio                  float64\n",
      "_user_maximum_basket                 int16\n",
      "_user_average_basket                 float64\n",
      "order_id                             int32\n",
      "eval_set                             category\n",
      "time_since_last_order                float32\n",
      "aisle_id                             int64\n",
      "department_id                        int64\n",
      "_aisles_buy_first_time_total_cnt     int64\n",
      "_aisles_buy_second_time_total_cnt    int64\n",
      "_aisles_tot_cnts                     int64\n",
      "_aisles_reorder_tot_cnts             float64\n",
      "_aisles_reorder_prob                 float64\n",
      "_aisles_reorder_ratio                float64\n",
      "_aisles_reorder_times                float64\n",
      "__dep_tot_cnts                       int64\n",
      "_dep_buy_first_time_total_cnt        int64\n",
      "_dep_buy_second_time_total_cnt       int64\n",
      "_dep_reorder_tot_cnts                float64\n",
      "_dep_reorder_prob                    float64\n",
      "_dep_reorder_ratio                   float64\n",
      "_dep_reorder_times                   float64\n",
      "_up_order_rate                       float64\n",
      "_up_order_since_last_order           int16\n",
      "_up_order_rate_since_first_order     float64\n",
      "reordered                            float64\n",
      "dtypes: category(1), float32(4), float64(19), int16(5), int32(1), int64(15), uint64(1)\n",
      "memory usage: 4.0 GB\n"
     ]
    }
   ],
   "source": [
    "data.info()"
   ]
  },
  {
   "cell_type": "markdown",
   "metadata": {},
   "source": [
    "# User aisle interaction Feature\n",
    "自己加的 表示User 和特定aisle之间的联系"
   ]
  },
  {
   "cell_type": "code",
   "execution_count": 42,
   "metadata": {
    "collapsed": true
   },
   "outputs": [],
   "source": [
    "agg_dict_5 = {'order_number':{'_ua_order_count': 'count', \n",
    "                                  '_ua_first_order_number': 'min', \n",
    "                                  '_ua_last_order_number':'max'}, \n",
    "                 'order_dow' :{'_ua_average_order_dow' : 'mean'}}"
   ]
  },
  {
   "cell_type": "code",
   "execution_count": 43,
   "metadata": {
    "scrolled": false
   },
   "outputs": [
    {
     "name": "stdout",
     "output_type": "stream",
     "text": [
      "add stats features begin ......\n",
      "add stats features end ......\n",
      "time lapsing 14.8709998131 s \n",
      "\n"
     ]
    }
   ],
   "source": [
    "ua = ka_add_groupby_features_1_vs_n(df=priors_orders_detail, \n",
    "                                                          group_columns_list=['user_id', 'aisle_id'], \n",
    "                                                          agg_dict=agg_dict_5)\n"
   ]
  },
  {
   "cell_type": "code",
   "execution_count": 44,
   "metadata": {
    "collapsed": true
   },
   "outputs": [],
   "source": [
    "data = data.merge(ua, on=['user_id','aisle_id'])"
   ]
  },
  {
   "cell_type": "code",
   "execution_count": 45,
   "metadata": {
    "collapsed": true
   },
   "outputs": [],
   "source": [
    "data['ua_order_rate'] = data._ua_order_count / data._user_total_orders\n",
    "### here is some problems\n",
    "data['_ua_order_since_last_order'] = data._user_total_orders - data._ua_last_order_number\n",
    "###\n",
    "data['_ua_order_rate_since_first_order'] = data._ua_order_count / (data._user_total_orders - data._ua_first_order_number + 1)"
   ]
  },
  {
   "cell_type": "code",
   "execution_count": 48,
   "metadata": {
    "scrolled": true
   },
   "outputs": [
    {
     "data": {
      "text/html": [
       "<div>\n",
       "<style>\n",
       "    .dataframe thead tr:only-child th {\n",
       "        text-align: right;\n",
       "    }\n",
       "\n",
       "    .dataframe thead th {\n",
       "        text-align: left;\n",
       "    }\n",
       "\n",
       "    .dataframe tbody tr th {\n",
       "        vertical-align: top;\n",
       "    }\n",
       "</style>\n",
       "<table border=\"1\" class=\"dataframe\">\n",
       "  <thead>\n",
       "    <tr style=\"text-align: right;\">\n",
       "      <th></th>\n",
       "      <th>user_id</th>\n",
       "      <th>product_id</th>\n",
       "      <th>_up_average_cart_position</th>\n",
       "      <th>_up_average_order_dow</th>\n",
       "      <th>_up_order_count</th>\n",
       "      <th>_up_first_order_number</th>\n",
       "      <th>_up_last_order_number</th>\n",
       "      <th>_prod_buy_second_time_total_cnt</th>\n",
       "      <th>_prod_buy_first_time_total_cnt</th>\n",
       "      <th>_prod_tot_cnts</th>\n",
       "      <th>...</th>\n",
       "      <th>_up_order_since_last_order</th>\n",
       "      <th>_up_order_rate_since_first_order</th>\n",
       "      <th>reordered</th>\n",
       "      <th>_ua_average_order_dow</th>\n",
       "      <th>_ua_last_order_number</th>\n",
       "      <th>_ua_first_order_number</th>\n",
       "      <th>_ua_order_count</th>\n",
       "      <th>ua_order_rate</th>\n",
       "      <th>_ua_order_since_last_order</th>\n",
       "      <th>_ua_order_rate_since_first_order</th>\n",
       "    </tr>\n",
       "  </thead>\n",
       "  <tbody>\n",
       "    <tr>\n",
       "      <th>0</th>\n",
       "      <td>1</td>\n",
       "      <td>196</td>\n",
       "      <td>1.400000</td>\n",
       "      <td>2.5</td>\n",
       "      <td>10</td>\n",
       "      <td>1</td>\n",
       "      <td>10</td>\n",
       "      <td>4660</td>\n",
       "      <td>8000</td>\n",
       "      <td>35791</td>\n",
       "      <td>...</td>\n",
       "      <td>0</td>\n",
       "      <td>1.000000</td>\n",
       "      <td>1.0</td>\n",
       "      <td>2.384615</td>\n",
       "      <td>10</td>\n",
       "      <td>1</td>\n",
       "      <td>13</td>\n",
       "      <td>1.300000</td>\n",
       "      <td>0</td>\n",
       "      <td>1.3</td>\n",
       "    </tr>\n",
       "    <tr>\n",
       "      <th>1</th>\n",
       "      <td>1</td>\n",
       "      <td>46149</td>\n",
       "      <td>3.000000</td>\n",
       "      <td>2.0</td>\n",
       "      <td>3</td>\n",
       "      <td>8</td>\n",
       "      <td>10</td>\n",
       "      <td>1083</td>\n",
       "      <td>1605</td>\n",
       "      <td>8558</td>\n",
       "      <td>...</td>\n",
       "      <td>0</td>\n",
       "      <td>1.000000</td>\n",
       "      <td>1.0</td>\n",
       "      <td>2.384615</td>\n",
       "      <td>10</td>\n",
       "      <td>1</td>\n",
       "      <td>13</td>\n",
       "      <td>1.300000</td>\n",
       "      <td>0</td>\n",
       "      <td>1.3</td>\n",
       "    </tr>\n",
       "    <tr>\n",
       "      <th>2</th>\n",
       "      <td>15</td>\n",
       "      <td>196</td>\n",
       "      <td>2.200000</td>\n",
       "      <td>1.4</td>\n",
       "      <td>5</td>\n",
       "      <td>15</td>\n",
       "      <td>22</td>\n",
       "      <td>4660</td>\n",
       "      <td>8000</td>\n",
       "      <td>35791</td>\n",
       "      <td>...</td>\n",
       "      <td>0</td>\n",
       "      <td>0.625000</td>\n",
       "      <td>NaN</td>\n",
       "      <td>1.555556</td>\n",
       "      <td>22</td>\n",
       "      <td>5</td>\n",
       "      <td>9</td>\n",
       "      <td>0.409091</td>\n",
       "      <td>0</td>\n",
       "      <td>0.5</td>\n",
       "    </tr>\n",
       "    <tr>\n",
       "      <th>3</th>\n",
       "      <td>15</td>\n",
       "      <td>30292</td>\n",
       "      <td>3.000000</td>\n",
       "      <td>4.0</td>\n",
       "      <td>1</td>\n",
       "      <td>5</td>\n",
       "      <td>5</td>\n",
       "      <td>43</td>\n",
       "      <td>122</td>\n",
       "      <td>186</td>\n",
       "      <td>...</td>\n",
       "      <td>17</td>\n",
       "      <td>0.055556</td>\n",
       "      <td>NaN</td>\n",
       "      <td>1.555556</td>\n",
       "      <td>22</td>\n",
       "      <td>5</td>\n",
       "      <td>9</td>\n",
       "      <td>0.409091</td>\n",
       "      <td>0</td>\n",
       "      <td>0.5</td>\n",
       "    </tr>\n",
       "    <tr>\n",
       "      <th>4</th>\n",
       "      <td>15</td>\n",
       "      <td>48142</td>\n",
       "      <td>2.333333</td>\n",
       "      <td>1.0</td>\n",
       "      <td>3</td>\n",
       "      <td>7</td>\n",
       "      <td>21</td>\n",
       "      <td>520</td>\n",
       "      <td>983</td>\n",
       "      <td>3279</td>\n",
       "      <td>...</td>\n",
       "      <td>1</td>\n",
       "      <td>0.187500</td>\n",
       "      <td>NaN</td>\n",
       "      <td>1.555556</td>\n",
       "      <td>22</td>\n",
       "      <td>5</td>\n",
       "      <td>9</td>\n",
       "      <td>0.409091</td>\n",
       "      <td>0</td>\n",
       "      <td>0.5</td>\n",
       "    </tr>\n",
       "  </tbody>\n",
       "</table>\n",
       "<p>5 rows × 53 columns</p>\n",
       "</div>"
      ],
      "text/plain": [
       "   user_id  product_id  _up_average_cart_position  _up_average_order_dow  \\\n",
       "0        1         196                   1.400000                    2.5   \n",
       "1        1       46149                   3.000000                    2.0   \n",
       "2       15         196                   2.200000                    1.4   \n",
       "3       15       30292                   3.000000                    4.0   \n",
       "4       15       48142                   2.333333                    1.0   \n",
       "\n",
       "   _up_order_count  _up_first_order_number  _up_last_order_number  \\\n",
       "0               10                       1                     10   \n",
       "1                3                       8                     10   \n",
       "2                5                      15                     22   \n",
       "3                1                       5                      5   \n",
       "4                3                       7                     21   \n",
       "\n",
       "   _prod_buy_second_time_total_cnt  _prod_buy_first_time_total_cnt  \\\n",
       "0                             4660                            8000   \n",
       "1                             1083                            1605   \n",
       "2                             4660                            8000   \n",
       "3                               43                             122   \n",
       "4                              520                             983   \n",
       "\n",
       "   _prod_tot_cnts                ...                 \\\n",
       "0           35791                ...                  \n",
       "1            8558                ...                  \n",
       "2           35791                ...                  \n",
       "3             186                ...                  \n",
       "4            3279                ...                  \n",
       "\n",
       "   _up_order_since_last_order  _up_order_rate_since_first_order  reordered  \\\n",
       "0                           0                          1.000000        1.0   \n",
       "1                           0                          1.000000        1.0   \n",
       "2                           0                          0.625000        NaN   \n",
       "3                          17                          0.055556        NaN   \n",
       "4                           1                          0.187500        NaN   \n",
       "\n",
       "   _ua_average_order_dow  _ua_last_order_number  _ua_first_order_number  \\\n",
       "0               2.384615                     10                       1   \n",
       "1               2.384615                     10                       1   \n",
       "2               1.555556                     22                       5   \n",
       "3               1.555556                     22                       5   \n",
       "4               1.555556                     22                       5   \n",
       "\n",
       "   _ua_order_count  ua_order_rate  _ua_order_since_last_order  \\\n",
       "0               13       1.300000                           0   \n",
       "1               13       1.300000                           0   \n",
       "2                9       0.409091                           0   \n",
       "3                9       0.409091                           0   \n",
       "4                9       0.409091                           0   \n",
       "\n",
       "   _ua_order_rate_since_first_order  \n",
       "0                               1.3  \n",
       "1                               1.3  \n",
       "2                               0.5  \n",
       "3                               0.5  \n",
       "4                               0.5  \n",
       "\n",
       "[5 rows x 53 columns]"
      ]
     },
     "execution_count": 48,
     "metadata": {},
     "output_type": "execute_result"
    }
   ],
   "source": [
    "data.head()"
   ]
  },
  {
   "cell_type": "code",
   "execution_count": 49,
   "metadata": {
    "collapsed": true
   },
   "outputs": [],
   "source": [
    "# ua.drop(['_ua_last_order_number', '_ua_average_order_dow','_ua_first_order_number'], axis = 1, inplace = True)"
   ]
  },
  {
   "cell_type": "markdown",
   "metadata": {},
   "source": [
    "# User department interaction Feature\n",
    "User 和 特定department 之间的联系"
   ]
  },
  {
   "cell_type": "code",
   "execution_count": 53,
   "metadata": {
    "collapsed": true
   },
   "outputs": [],
   "source": [
    "agg_dict_6 = {'order_number':{'_udp_order_count': 'count', \n",
    "                                  '_udp_first_order_number': 'min', \n",
    "                                  '_udp_last_order_number':'max'}, \n",
    "                 'order_dow' :{'_udp_average_order_dow' : 'mean'}}"
   ]
  },
  {
   "cell_type": "code",
   "execution_count": 54,
   "metadata": {},
   "outputs": [
    {
     "name": "stdout",
     "output_type": "stream",
     "text": [
      "add stats features begin ......\n",
      "add stats features end ......\n",
      "time lapsing 11.3980000019 s \n",
      "\n"
     ]
    }
   ],
   "source": [
    "# remain code here\n",
    "udp = ka_add_groupby_features_1_vs_n(df=priors_orders_detail, \n",
    "                                                          group_columns_list=['user_id', 'department_id'], \n",
    "                                                          agg_dict=agg_dict_6)\n",
    "data = data.merge(udp, on=['user_id','department_id'])"
   ]
  },
  {
   "cell_type": "code",
   "execution_count": 56,
   "metadata": {
    "collapsed": true
   },
   "outputs": [],
   "source": [
    "data['udp_order_rate'] = data._udp_order_count / data._user_total_orders\n",
    "### here is some problems\n",
    "data['_udp_order_since_last_order'] = data._user_total_orders - data._udp_last_order_number\n",
    "###\n",
    "data['_udp_order_rate_since_first_order'] = data._udp_order_count / (data._user_total_orders - data._udp_first_order_number + 1)"
   ]
  },
  {
   "cell_type": "code",
   "execution_count": 58,
   "metadata": {},
   "outputs": [
    {
     "data": {
      "text/html": [
       "<div>\n",
       "<style>\n",
       "    .dataframe thead tr:only-child th {\n",
       "        text-align: right;\n",
       "    }\n",
       "\n",
       "    .dataframe thead th {\n",
       "        text-align: left;\n",
       "    }\n",
       "\n",
       "    .dataframe tbody tr th {\n",
       "        vertical-align: top;\n",
       "    }\n",
       "</style>\n",
       "<table border=\"1\" class=\"dataframe\">\n",
       "  <thead>\n",
       "    <tr style=\"text-align: right;\">\n",
       "      <th></th>\n",
       "      <th>user_id</th>\n",
       "      <th>product_id</th>\n",
       "      <th>_up_average_cart_position</th>\n",
       "      <th>_up_average_order_dow</th>\n",
       "      <th>_up_order_count</th>\n",
       "      <th>_up_first_order_number</th>\n",
       "      <th>_up_last_order_number</th>\n",
       "      <th>_prod_buy_second_time_total_cnt</th>\n",
       "      <th>_prod_buy_first_time_total_cnt</th>\n",
       "      <th>_prod_tot_cnts</th>\n",
       "      <th>...</th>\n",
       "      <th>ua_order_rate</th>\n",
       "      <th>_ua_order_since_last_order</th>\n",
       "      <th>_ua_order_rate_since_first_order</th>\n",
       "      <th>_udp_average_order_dow</th>\n",
       "      <th>_udp_last_order_number</th>\n",
       "      <th>_udp_order_count</th>\n",
       "      <th>_udp_first_order_number</th>\n",
       "      <th>udp_order_rate</th>\n",
       "      <th>_udp_order_since_last_order</th>\n",
       "      <th>_udp_order_rate_since_first_order</th>\n",
       "    </tr>\n",
       "  </thead>\n",
       "  <tbody>\n",
       "    <tr>\n",
       "      <th>0</th>\n",
       "      <td>1</td>\n",
       "      <td>196</td>\n",
       "      <td>1.400000</td>\n",
       "      <td>2.5</td>\n",
       "      <td>10</td>\n",
       "      <td>1</td>\n",
       "      <td>10</td>\n",
       "      <td>4660</td>\n",
       "      <td>8000</td>\n",
       "      <td>35791</td>\n",
       "      <td>...</td>\n",
       "      <td>1.300000</td>\n",
       "      <td>0</td>\n",
       "      <td>1.3</td>\n",
       "      <td>2.384615</td>\n",
       "      <td>10</td>\n",
       "      <td>13</td>\n",
       "      <td>1</td>\n",
       "      <td>1.300000</td>\n",
       "      <td>0</td>\n",
       "      <td>1.300000</td>\n",
       "    </tr>\n",
       "    <tr>\n",
       "      <th>1</th>\n",
       "      <td>1</td>\n",
       "      <td>46149</td>\n",
       "      <td>3.000000</td>\n",
       "      <td>2.0</td>\n",
       "      <td>3</td>\n",
       "      <td>8</td>\n",
       "      <td>10</td>\n",
       "      <td>1083</td>\n",
       "      <td>1605</td>\n",
       "      <td>8558</td>\n",
       "      <td>...</td>\n",
       "      <td>1.300000</td>\n",
       "      <td>0</td>\n",
       "      <td>1.3</td>\n",
       "      <td>2.384615</td>\n",
       "      <td>10</td>\n",
       "      <td>13</td>\n",
       "      <td>1</td>\n",
       "      <td>1.300000</td>\n",
       "      <td>0</td>\n",
       "      <td>1.300000</td>\n",
       "    </tr>\n",
       "    <tr>\n",
       "      <th>2</th>\n",
       "      <td>15</td>\n",
       "      <td>196</td>\n",
       "      <td>2.200000</td>\n",
       "      <td>1.4</td>\n",
       "      <td>5</td>\n",
       "      <td>15</td>\n",
       "      <td>22</td>\n",
       "      <td>4660</td>\n",
       "      <td>8000</td>\n",
       "      <td>35791</td>\n",
       "      <td>...</td>\n",
       "      <td>0.409091</td>\n",
       "      <td>0</td>\n",
       "      <td>0.5</td>\n",
       "      <td>2.000000</td>\n",
       "      <td>22</td>\n",
       "      <td>20</td>\n",
       "      <td>1</td>\n",
       "      <td>0.909091</td>\n",
       "      <td>0</td>\n",
       "      <td>0.909091</td>\n",
       "    </tr>\n",
       "    <tr>\n",
       "      <th>3</th>\n",
       "      <td>15</td>\n",
       "      <td>30292</td>\n",
       "      <td>3.000000</td>\n",
       "      <td>4.0</td>\n",
       "      <td>1</td>\n",
       "      <td>5</td>\n",
       "      <td>5</td>\n",
       "      <td>43</td>\n",
       "      <td>122</td>\n",
       "      <td>186</td>\n",
       "      <td>...</td>\n",
       "      <td>0.409091</td>\n",
       "      <td>0</td>\n",
       "      <td>0.5</td>\n",
       "      <td>2.000000</td>\n",
       "      <td>22</td>\n",
       "      <td>20</td>\n",
       "      <td>1</td>\n",
       "      <td>0.909091</td>\n",
       "      <td>0</td>\n",
       "      <td>0.909091</td>\n",
       "    </tr>\n",
       "    <tr>\n",
       "      <th>4</th>\n",
       "      <td>15</td>\n",
       "      <td>48142</td>\n",
       "      <td>2.333333</td>\n",
       "      <td>1.0</td>\n",
       "      <td>3</td>\n",
       "      <td>7</td>\n",
       "      <td>21</td>\n",
       "      <td>520</td>\n",
       "      <td>983</td>\n",
       "      <td>3279</td>\n",
       "      <td>...</td>\n",
       "      <td>0.409091</td>\n",
       "      <td>0</td>\n",
       "      <td>0.5</td>\n",
       "      <td>2.000000</td>\n",
       "      <td>22</td>\n",
       "      <td>20</td>\n",
       "      <td>1</td>\n",
       "      <td>0.909091</td>\n",
       "      <td>0</td>\n",
       "      <td>0.909091</td>\n",
       "    </tr>\n",
       "  </tbody>\n",
       "</table>\n",
       "<p>5 rows × 60 columns</p>\n",
       "</div>"
      ],
      "text/plain": [
       "   user_id  product_id  _up_average_cart_position  _up_average_order_dow  \\\n",
       "0        1         196                   1.400000                    2.5   \n",
       "1        1       46149                   3.000000                    2.0   \n",
       "2       15         196                   2.200000                    1.4   \n",
       "3       15       30292                   3.000000                    4.0   \n",
       "4       15       48142                   2.333333                    1.0   \n",
       "\n",
       "   _up_order_count  _up_first_order_number  _up_last_order_number  \\\n",
       "0               10                       1                     10   \n",
       "1                3                       8                     10   \n",
       "2                5                      15                     22   \n",
       "3                1                       5                      5   \n",
       "4                3                       7                     21   \n",
       "\n",
       "   _prod_buy_second_time_total_cnt  _prod_buy_first_time_total_cnt  \\\n",
       "0                             4660                            8000   \n",
       "1                             1083                            1605   \n",
       "2                             4660                            8000   \n",
       "3                               43                             122   \n",
       "4                              520                             983   \n",
       "\n",
       "   _prod_tot_cnts                ...                  ua_order_rate  \\\n",
       "0           35791                ...                       1.300000   \n",
       "1            8558                ...                       1.300000   \n",
       "2           35791                ...                       0.409091   \n",
       "3             186                ...                       0.409091   \n",
       "4            3279                ...                       0.409091   \n",
       "\n",
       "   _ua_order_since_last_order  _ua_order_rate_since_first_order  \\\n",
       "0                           0                               1.3   \n",
       "1                           0                               1.3   \n",
       "2                           0                               0.5   \n",
       "3                           0                               0.5   \n",
       "4                           0                               0.5   \n",
       "\n",
       "   _udp_average_order_dow  _udp_last_order_number  _udp_order_count  \\\n",
       "0                2.384615                      10                13   \n",
       "1                2.384615                      10                13   \n",
       "2                2.000000                      22                20   \n",
       "3                2.000000                      22                20   \n",
       "4                2.000000                      22                20   \n",
       "\n",
       "   _udp_first_order_number  udp_order_rate  _udp_order_since_last_order  \\\n",
       "0                        1        1.300000                            0   \n",
       "1                        1        1.300000                            0   \n",
       "2                        1        0.909091                            0   \n",
       "3                        1        0.909091                            0   \n",
       "4                        1        0.909091                            0   \n",
       "\n",
       "   _udp_order_rate_since_first_order  \n",
       "0                           1.300000  \n",
       "1                           1.300000  \n",
       "2                           0.909091  \n",
       "3                           0.909091  \n",
       "4                           0.909091  \n",
       "\n",
       "[5 rows x 60 columns]"
      ]
     },
     "execution_count": 58,
     "metadata": {},
     "output_type": "execute_result"
    }
   ],
   "source": [
    "data.head()"
   ]
  },
  {
   "cell_type": "code",
   "execution_count": 57,
   "metadata": {
    "scrolled": false
   },
   "outputs": [
    {
     "name": "stdout",
     "output_type": "stream",
     "text": [
      "<class 'pandas.core.frame.DataFrame'>\n",
      "Int64Index: 13307953 entries, 0 to 13307952\n",
      "Data columns (total 60 columns):\n",
      "user_id                              int64\n",
      "product_id                           uint64\n",
      "_up_average_cart_position            float64\n",
      "_up_average_order_dow                float64\n",
      "_up_order_count                      int64\n",
      "_up_first_order_number               int16\n",
      "_up_last_order_number                int16\n",
      "_prod_buy_second_time_total_cnt      int64\n",
      "_prod_buy_first_time_total_cnt       int64\n",
      "_prod_tot_cnts                       int64\n",
      "_prod_reorder_tot_cnts               float64\n",
      "_prod_reorder_prob                   float64\n",
      "_prod_reorder_ratio                  float64\n",
      "_prod_reorder_times                  float64\n",
      "_user_mean_days_since_prior_order    float32\n",
      "_user_sum_days_since_prior_order     float32\n",
      "_user_min_days_since_prior_order     float32\n",
      "_user_total_orders                   int16\n",
      "_user_total_products                 int64\n",
      "_user_distinct_products              int64\n",
      "_user_reorder_ratio                  float64\n",
      "_user_maximum_basket                 int16\n",
      "_user_average_basket                 float64\n",
      "order_id                             int32\n",
      "eval_set                             category\n",
      "time_since_last_order                float32\n",
      "aisle_id                             int64\n",
      "department_id                        int64\n",
      "_aisles_buy_first_time_total_cnt     int64\n",
      "_aisles_buy_second_time_total_cnt    int64\n",
      "_aisles_tot_cnts                     int64\n",
      "_aisles_reorder_tot_cnts             float64\n",
      "_aisles_reorder_prob                 float64\n",
      "_aisles_reorder_ratio                float64\n",
      "_aisles_reorder_times                float64\n",
      "__dep_tot_cnts                       int64\n",
      "_dep_buy_first_time_total_cnt        int64\n",
      "_dep_buy_second_time_total_cnt       int64\n",
      "_dep_reorder_tot_cnts                float64\n",
      "_dep_reorder_prob                    float64\n",
      "_dep_reorder_ratio                   float64\n",
      "_dep_reorder_times                   float64\n",
      "_up_order_rate                       float64\n",
      "_up_order_since_last_order           int16\n",
      "_up_order_rate_since_first_order     float64\n",
      "reordered                            float64\n",
      "_ua_average_order_dow                float64\n",
      "_ua_last_order_number                int16\n",
      "_ua_first_order_number               int16\n",
      "_ua_order_count                      int64\n",
      "ua_order_rate                        float64\n",
      "_ua_order_since_last_order           int16\n",
      "_ua_order_rate_since_first_order     float64\n",
      "_udp_average_order_dow               float64\n",
      "_udp_last_order_number               int16\n",
      "_udp_order_count                     int64\n",
      "_udp_first_order_number              int16\n",
      "udp_order_rate                       float64\n",
      "_udp_order_since_last_order          int16\n",
      "_udp_order_rate_since_first_order    float64\n",
      "dtypes: category(1), float32(4), float64(25), int16(11), int32(1), int64(17), uint64(1)\n",
      "memory usage: 5.5 GB\n"
     ]
    }
   ],
   "source": [
    "data.info()"
   ]
  },
  {
   "cell_type": "markdown",
   "metadata": {},
   "source": [
    "这里尝试过保存为pkl文件，但是加入很多特征之后，文件太大无法保存\n",
    "用.h5格式保存会出现奇怪的提示，说不让用fixed type 要用 table保存。暂时还没看懂。\n",
    "目前暂时用csv保存 这个很慢。"
   ]
  },
  {
   "cell_type": "code",
   "execution_count": 59,
   "metadata": {
    "collapsed": true,
    "scrolled": true
   },
   "outputs": [],
   "source": [
    "data.drop(['department_id', 'aisle_id'], axis=1, inplace=True)\n",
    "train = data.loc[data.eval_set == \"train\",:]\n",
    "train.loc[:, 'reordered'] = train.reordered.fillna(0)\n",
    "X_test = data.loc[data.eval_set == \"test\",:]\n",
    "train.to_pickle('train.pkl')\n",
    "X_test.to_pickle('X_test.pkl')"
   ]
  },
  {
   "cell_type": "markdown",
   "metadata": {
    "collapsed": true
   },
   "source": [
    "# 特征建立部分到此结束，目前存在的问题：\n",
    "#当时加特征的时候，没有一个个加特征进行验证，所以目前很多特征都不确定是否有用。加入冗余特征会使得准确率下降吗, 是否需要重新一个个来验证。\n",
    "#对time的数据处理还不够深 考虑新加关于order_dow（购买日期是星期几） order_hour（购买时间）的feature 以及time和user product的interaction\n",
    "#但是再加入特征 电脑应该带不动了"
   ]
  },
  {
   "cell_type": "markdown",
   "metadata": {},
   "source": [
    "# 其他提升空间：\n",
    "#由于提供了product name。我们可以挖掘一下product name和各种数据之间的联系。\n",
    "#比如某些单词能给人留下深刻印象的，可能会有更高的reorder rate\n",
    "#不过这个暂时不知道如何下手"
   ]
  },
  {
   "cell_type": "code",
   "execution_count": null,
   "metadata": {
    "collapsed": true
   },
   "outputs": [],
   "source": []
  }
 ],
 "metadata": {
  "kernelspec": {
   "display_name": "Python 2",
   "language": "python",
   "name": "python2"
  },
  "language_info": {
   "codemirror_mode": {
    "name": "ipython",
    "version": 2
   },
   "file_extension": ".py",
   "mimetype": "text/x-python",
   "name": "python",
   "nbconvert_exporter": "python",
   "pygments_lexer": "ipython2",
   "version": "2.7.13"
  }
 },
 "nbformat": 4,
 "nbformat_minor": 2
}
