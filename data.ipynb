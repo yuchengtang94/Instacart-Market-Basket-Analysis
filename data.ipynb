{
 "cells": [
  {
   "cell_type": "code",
   "execution_count": 1,
   "metadata": {},
   "outputs": [
    {
     "name": "stderr",
     "output_type": "stream",
     "text": [
      "d:\\Users\\Tang\\Anaconda2\\lib\\site-packages\\sklearn\\cross_validation.py:44: DeprecationWarning: This module was deprecated in version 0.18 in favor of the model_selection module into which all the refactored classes and functions are moved. Also note that the interface of the new CV iterators are different from that of this module. This module will be removed in 0.20.\n",
      "  \"This module will be removed in 0.20.\", DeprecationWarning)\n"
     ]
    }
   ],
   "source": [
    "import numpy as np # linear algebra\n",
    "import pandas as pd # data processing, CSV file I/O (e.g. pd.read_csv)\n",
    "from sklearn.cross_validation import train_test_split \n",
    "\n",
    "# data = pd.read_pickle('data.pkl')\n",
    "# data = pd.read_hdf('data.h5','df')\n",
    "\n",
    "data = pd.read_csv('data.csv')\n",
    "data.drop(['department_id', 'aisle_id'], axis=1, inplace=True)\n"
   ]
  },
  {
   "cell_type": "code",
   "execution_count": 3,
   "metadata": {},
   "outputs": [],
   "source": [
    "data.drop('Unnamed: 0', axis=1, inplace=True)"
   ]
  },
  {
   "cell_type": "code",
   "execution_count": 4,
   "metadata": {},
   "outputs": [
    {
     "name": "stdout",
     "output_type": "stream",
     "text": [
      "<class 'pandas.core.frame.DataFrame'>\n",
      "RangeIndex: 13307953 entries, 0 to 13307952\n",
      "Data columns (total 58 columns):\n",
      "user_id                              int64\n",
      "product_id                           int64\n",
      "_up_average_cart_position            float64\n",
      "_up_average_order_dow                float64\n",
      "_up_order_count                      int64\n",
      "_up_first_order_number               int64\n",
      "_up_last_order_number                int64\n",
      "_prod_buy_second_time_total_cnt      int64\n",
      "_prod_buy_first_time_total_cnt       int64\n",
      "_prod_tot_cnts                       int64\n",
      "_prod_reorder_tot_cnts               float64\n",
      "_prod_reorder_prob                   float64\n",
      "_prod_reorder_ratio                  float64\n",
      "_prod_reorder_times                  float64\n",
      "_user_mean_days_since_prior_order    float64\n",
      "_user_sum_days_since_prior_order     float64\n",
      "_user_min_days_since_prior_order     float64\n",
      "_user_total_orders                   int64\n",
      "_user_total_products                 int64\n",
      "_user_distinct_products              int64\n",
      "_user_reorder_ratio                  float64\n",
      "_user_maximum_basket                 int64\n",
      "_user_average_basket                 float64\n",
      "order_id                             int64\n",
      "eval_set                             object\n",
      "time_since_last_order                float64\n",
      "_aisles_buy_first_time_total_cnt     int64\n",
      "_aisles_buy_second_time_total_cnt    int64\n",
      "_aisles_tot_cnts                     int64\n",
      "_aisles_reorder_tot_cnts             float64\n",
      "_aisles_reorder_prob                 float64\n",
      "_aisles_reorder_ratio                float64\n",
      "_aisles_reorder_times                float64\n",
      "__dep_tot_cnts                       int64\n",
      "_dep_buy_first_time_total_cnt        int64\n",
      "_dep_buy_second_time_total_cnt       int64\n",
      "_dep_reorder_tot_cnts                float64\n",
      "_dep_reorder_prob                    float64\n",
      "_dep_reorder_ratio                   float64\n",
      "_dep_reorder_times                   float64\n",
      "_up_order_rate                       float64\n",
      "_up_order_since_last_order           int64\n",
      "_up_order_rate_since_first_order     float64\n",
      "reordered                            float64\n",
      "_ua_average_order_dow                float64\n",
      "_ua_last_order_number                int64\n",
      "_ua_first_order_number               int64\n",
      "_ua_order_count                      int64\n",
      "ua_order_rate                        float64\n",
      "_ua_order_since_last_order           int64\n",
      "_ua_order_rate_since_first_order     float64\n",
      "_udp_average_order_dow               float64\n",
      "_udp_last_order_number               int64\n",
      "_udp_order_count                     int64\n",
      "_udp_first_order_number              int64\n",
      "udp_order_rate                       float64\n",
      "_udp_order_since_last_order          int64\n",
      "_udp_order_rate_since_first_order    float64\n",
      "dtypes: float64(29), int64(28), object(1)\n",
      "memory usage: 5.8+ GB\n"
     ]
    }
   ],
   "source": [
    "data.info()"
   ]
  },
  {
   "cell_type": "code",
   "execution_count": 5,
   "metadata": {},
   "outputs": [
    {
     "name": "stderr",
     "output_type": "stream",
     "text": [
      "d:\\Users\\Tang\\Anaconda2\\lib\\site-packages\\pandas\\core\\indexing.py:517: SettingWithCopyWarning: \n",
      "A value is trying to be set on a copy of a slice from a DataFrame.\n",
      "Try using .loc[row_indexer,col_indexer] = value instead\n",
      "\n",
      "See the caveats in the documentation: http://pandas.pydata.org/pandas-docs/stable/indexing.html#indexing-view-versus-copy\n",
      "  self.obj[item] = s\n"
     ]
    }
   ],
   "source": [
    "train = data.loc[data.eval_set == \"train\",:]\n",
    "#train.drop(['eval_set', 'user_id', 'product_id', 'order_id'], axis=1, inplace=True)\n",
    "#train.drop(['department_id', 'aisle_id'], axis=1, inplace=True)\n",
    "train.loc[:, 'reordered'] = train.reordered.fillna(0)\n",
    "\n",
    "X_test = data.loc[data.eval_set == \"test\",:]\n",
    "# X_test.drop(['eval_set', 'user_id', 'order_id', 'reordered', 'product_id'], axis=1, inplace=True)\n",
    "# X_test.drop(['department_id', 'aisle_id'], axis=1, inplace=True)\n"
   ]
  },
  {
   "cell_type": "code",
   "execution_count": 6,
   "metadata": {
    "collapsed": true
   },
   "outputs": [],
   "source": [
    "# subsample 让training时间更短\n",
    "# y_train = train.reordered\n",
    "# X_train = train.drop('reordered', axis = 1)\n",
    "# X_train, X_val, y_train, y_val = train_test_split(train.drop('reordered', axis=1), train.reordered,\n",
    "#                                                      test_size=0.2, random_state=42)\n",
    "train.to_pickle('train.pkl')\n",
    "# X_train.to_pickle('X_train.pkl')\n",
    "# y_train.to_pickle('y_train.pkl')\n",
    "X_test.to_pickle('X_test.pkl')"
   ]
  },
  {
   "cell_type": "code",
   "execution_count": 9,
   "metadata": {},
   "outputs": [
    {
     "name": "stdout",
     "output_type": "stream",
     "text": [
      "<class 'pandas.core.frame.DataFrame'>\n",
      "Int64Index: 8474661 entries, 0 to 13307952\n",
      "Data columns (total 58 columns):\n",
      "user_id                              int64\n",
      "product_id                           int64\n",
      "_up_average_cart_position            float64\n",
      "_up_average_order_dow                float64\n",
      "_up_order_count                      int64\n",
      "_up_first_order_number               int64\n",
      "_up_last_order_number                int64\n",
      "_prod_buy_second_time_total_cnt      int64\n",
      "_prod_buy_first_time_total_cnt       int64\n",
      "_prod_tot_cnts                       int64\n",
      "_prod_reorder_tot_cnts               float64\n",
      "_prod_reorder_prob                   float64\n",
      "_prod_reorder_ratio                  float64\n",
      "_prod_reorder_times                  float64\n",
      "_user_mean_days_since_prior_order    float64\n",
      "_user_sum_days_since_prior_order     float64\n",
      "_user_min_days_since_prior_order     float64\n",
      "_user_total_orders                   int64\n",
      "_user_total_products                 int64\n",
      "_user_distinct_products              int64\n",
      "_user_reorder_ratio                  float64\n",
      "_user_maximum_basket                 int64\n",
      "_user_average_basket                 float64\n",
      "order_id                             int64\n",
      "eval_set                             object\n",
      "time_since_last_order                float64\n",
      "_aisles_buy_first_time_total_cnt     int64\n",
      "_aisles_buy_second_time_total_cnt    int64\n",
      "_aisles_tot_cnts                     int64\n",
      "_aisles_reorder_tot_cnts             float64\n",
      "_aisles_reorder_prob                 float64\n",
      "_aisles_reorder_ratio                float64\n",
      "_aisles_reorder_times                float64\n",
      "__dep_tot_cnts                       int64\n",
      "_dep_buy_first_time_total_cnt        int64\n",
      "_dep_buy_second_time_total_cnt       int64\n",
      "_dep_reorder_tot_cnts                float64\n",
      "_dep_reorder_prob                    float64\n",
      "_dep_reorder_ratio                   float64\n",
      "_dep_reorder_times                   float64\n",
      "_up_order_rate                       float64\n",
      "_up_order_since_last_order           int64\n",
      "_up_order_rate_since_first_order     float64\n",
      "reordered                            float64\n",
      "_ua_average_order_dow                float64\n",
      "_ua_last_order_number                int64\n",
      "_ua_first_order_number               int64\n",
      "_ua_order_count                      int64\n",
      "ua_order_rate                        float64\n",
      "_ua_order_since_last_order           int64\n",
      "_ua_order_rate_since_first_order     float64\n",
      "_udp_average_order_dow               float64\n",
      "_udp_last_order_number               int64\n",
      "_udp_order_count                     int64\n",
      "_udp_first_order_number              int64\n",
      "udp_order_rate                       float64\n",
      "_udp_order_since_last_order          int64\n",
      "_udp_order_rate_since_first_order    float64\n",
      "dtypes: float64(29), int64(28), object(1)\n",
      "memory usage: 3.7+ GB\n"
     ]
    }
   ],
   "source": [
    "train.info()"
   ]
  },
  {
   "cell_type": "code",
   "execution_count": 2,
   "metadata": {
    "collapsed": true
   },
   "outputs": [],
   "source": [
    "# data.drop(['_udp_last_order_number', '_udp_first_order_number', '_udp_average_order_dow'], axis=1, inplace=True)\n",
    "# data.drop(['_ua_first_order_number', '_ua_last_order_number', '_ua_average_order_dow'], axis=1, inplace=True)\n",
    "# data.drop(['_udp_order_since_last_order','_aisles_buy_first_time_total_cnt','_dep_buy_second_time_total_cnt'], axis=1, inplace=True)\n",
    "# data.drop(['__aisles_tot_cnts', '_aisles_buy_second_time_total_cnt', '__aisles_tot_cnts','_aisles_reorder_tot_cnts'], axis=1, inplace=True)\n",
    "# data.drop(['_prod_buy_second_time_total_cnt', '_prod_buy_first_time_total_cnt', '_ua_order_since_last_order','__dep_tot_cnts'], axis=1, inplace=True)\n",
    "\n",
    "# data.info()"
   ]
  },
  {
   "cell_type": "code",
   "execution_count": null,
   "metadata": {
    "collapsed": true
   },
   "outputs": [],
   "source": []
  }
 ],
 "metadata": {
  "kernelspec": {
   "display_name": "Python 2",
   "language": "python",
   "name": "python2"
  },
  "language_info": {
   "codemirror_mode": {
    "name": "ipython",
    "version": 2
   },
   "file_extension": ".py",
   "mimetype": "text/x-python",
   "name": "python",
   "nbconvert_exporter": "python",
   "pygments_lexer": "ipython2",
   "version": "2.7.13"
  }
 },
 "nbformat": 4,
 "nbformat_minor": 2
}
